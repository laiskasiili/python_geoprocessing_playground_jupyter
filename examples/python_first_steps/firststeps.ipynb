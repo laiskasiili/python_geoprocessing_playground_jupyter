{
 "cells": [
  {
   "cell_type": "markdown",
   "metadata": {},
   "source": [
    "# Python - A brief introduction with regard to using Pyomo\n",
    "\n",
    "#### Content:\n",
    "1. [How to use this notebook](#1.-How-to-use-this-notebook)\n",
    "2. [Variables and syntax](#2.-Variables-and-syntax)\n",
    "3. [Operators](#3.-Operators)\n",
    "4. [Data structures](#4.-Data-structures)\n",
    "<br> &nbsp;&nbsp;&nbsp;&nbsp;&nbsp;&nbsp;[List](#4.1-List)\n",
    "<br> &nbsp;&nbsp;&nbsp;&nbsp;&nbsp;&nbsp;[Tuple](#4.2-Tuple)\n",
    "<br> &nbsp;&nbsp;&nbsp;&nbsp;&nbsp;&nbsp;[Dictionary](#4.3-Dictionary)\n",
    "<br> &nbsp;&nbsp;&nbsp;&nbsp;&nbsp;&nbsp;[Set](#4.4-Set)\n",
    "5. [Importing](#5.-Importing)\n",
    "6. [The search for truth and branching (if-else)](#6.-The-search-for-truth-and-branching)\n",
    "<br> &nbsp;&nbsp;&nbsp;&nbsp;&nbsp;&nbsp;[Exkurs: A word about indentation](#Exkurs:-A-word-about-indentation)\n",
    "7. [Looping](#7.-Looping)\n",
    "8. [Comprehensions](#8.-Comprehensions)\n",
    "<br> &nbsp;&nbsp;&nbsp;&nbsp;&nbsp;&nbsp;[List comprehension](#8.1-List-comprehension)\n",
    "<br> &nbsp;&nbsp;&nbsp;&nbsp;&nbsp;&nbsp;[Dictionary comprehension](#8.2-Dictionary-comprehension)\n",
    "<br> &nbsp;&nbsp;&nbsp;&nbsp;&nbsp;&nbsp;[Using comprehensions to calculate the sum product](#8.3-Using-comprehensions-to-calculate-the-sum-product)\n",
    "9. [Numpy](#9.-Numpy)"
   ]
  },
  {
   "cell_type": "markdown",
   "metadata": {},
   "source": [
    "## 1. How to use this notebook"
   ]
  },
  {
   "cell_type": "markdown",
   "metadata": {
    "collapsed": true
   },
   "source": [
    "#### How to run code interactively\n",
    "1. Click into the grey area with the code. A border around the cell appears with a __green__ left side. <br/>If the color is blue instead of green, make sure you click into the grey shaded area.\n",
    "2. Press __Ctrl + Enter__ to run the code in the cell or __Shift + Enter__ to run the code and subsequetly select the next cell.\n",
    "3. Note how the number in the brackets of __In[ ]__ changes in the top left of the cell. The number increases with each executed cell and allows you to easily track in which order the cells were executed."
   ]
  },
  {
   "cell_type": "code",
   "execution_count": null,
   "metadata": {
    "collapsed": true
   },
   "outputs": [],
   "source": [
    "print(\"Click in this gray area and press CTRL + ENTER to run me interactively!\")\n",
    "print(2 + 2)"
   ]
  },
  {
   "cell_type": "markdown",
   "metadata": {},
   "source": [
    "#### Some useful commands\n",
    "- To reset all cell outputs, click \"Cell\" -> \"All Output\" -> \"Clear\"\n",
    "- To reset the kernel (the python interpreter), click \"Kernel\" -> \"Restart & Clear Output\"\n",
    "- To rename your notebook, click \"File\" -> \"Rename\"\n",
    "- To export your notebook to different file formats, click \"File\" -> \"Download as\"\n",
    "- To move a selected cell up or down, click the up or down button in the taskbar above."
   ]
  },
  {
   "cell_type": "markdown",
   "metadata": {
    "collapsed": true
   },
   "source": [
    "#### How to insert a new cell\n",
    "Maybe you want to experiment further or take some notes. In that case you can easily extend the notebook with new cells.\n",
    "1. Click on an existing cell. If that cell contains grey shaded code area, do to __not__ click into this area. A border around the cell appears with a __blue__ left side.\n",
    "2. You can now press the __a or b__ keys to insert a new cell above or below respectively. If you want to remove the current cell, press the __d__ key twice."
   ]
  },
  {
   "cell_type": "markdown",
   "metadata": {
    "collapsed": true
   },
   "source": [
    "#### How to toggle between a markdown and a code cell\n",
    "Markdown cells hold text for explanation. Code cells hold code that can be interactively executed. You recognize code cells easily by the grey shaded area and the __In[ ]:__ to their left.\n",
    "1. Click on an existing cell. If that cell contains grey shaded code area, be sure to __not__ click into this area. A border around the cell appears with a __blue__ left side.\n",
    "2. Press the __m or y__ key to change the cell to a markdown or code cell respectively."
   ]
  },
  {
   "cell_type": "markdown",
   "metadata": {
    "collapsed": true
   },
   "source": [
    "#### How to style markdown cells\n",
    "Double-click a markdown cell to go into edit mode. You will see the font changing and some extra symbols will appear. These extra symbols (e.g. ###) are used for styling purposes. Check the existing markdown cells or check this <a href=\"https://medium.com/ibm-data-science-experience/markdown-for-jupyter-notebooks-cheatsheet-386c05aeebed\" target=\"_blank\">awesome cheatsheet</a>. In addition you can use common HTML markup, like the &lt;a&gt; tag used for the link above! When you finish editing, don't forget to press __Ctrl + Enter__ to apply the styling and close edit mode."
   ]
  },
  {
   "cell_type": "markdown",
   "metadata": {},
   "source": [
    "## 2. Variables and syntax"
   ]
  },
  {
   "cell_type": "markdown",
   "metadata": {},
   "source": [
    "Similar to Matlab and R, Python is a dynamically typed language. That means, variables do not need to be declared with a specified datatype (integer, string, float) before being used. Also the datatypes held by a variable can change on the fly. A variable previously assigned to a number can subsequently be assigned to a string without any problems."
   ]
  },
  {
   "cell_type": "code",
   "execution_count": null,
   "metadata": {
    "collapsed": true
   },
   "outputs": [],
   "source": [
    "a = 5\n",
    "b = 7\n",
    "c = a + b\n",
    "print(c)"
   ]
  },
  {
   "cell_type": "code",
   "execution_count": null,
   "metadata": {
    "collapsed": true
   },
   "outputs": [],
   "source": [
    "a = 5\n",
    "print(a)\n",
    "a = \"John\"\n",
    "print(a)"
   ]
  },
  {
   "cell_type": "markdown",
   "metadata": {},
   "source": [
    "#### Note:\n",
    "- Compared to Matlab, there are no semicolons (;) at the end of a line.\n",
    "- For strings, both single (') or double (\") quotation marks are fine.\n",
    "- A hashtag (#) indicates a line of comments.\n",
    "- The function print() is used to show the value of a variable or expression. In the jupyter notebook, the value of the last line will be printed by default if not assigned to a variable."
   ]
  },
  {
   "cell_type": "markdown",
   "metadata": {},
   "source": [
    "## 3. Operators"
   ]
  },
  {
   "cell_type": "markdown",
   "metadata": {},
   "source": [
    "Python supports all common operators one may expect. The only syntactic speciality is the power operator, which is a double star (**) instead of the more commonly used caret (^)."
   ]
  },
  {
   "cell_type": "code",
   "execution_count": null,
   "metadata": {
    "collapsed": true
   },
   "outputs": [],
   "source": [
    "print(1 + 4) # Addition\n",
    "print(6 - 2) # Subtraction\n",
    "print(4 * 3) # Multiplication\n",
    "print(8 / 3) # Division\n",
    "print(8 // 3) # Floor division\n",
    "print(2 ** 3) # Exponentiation\n",
    "print(10 % 3) # Modulus"
   ]
  },
  {
   "cell_type": "markdown",
   "metadata": {},
   "source": [
    "All of these operators have also an assignment operator equivalent, which performs the operation and assigns the result back to the variable in one step. They consist of the operator followed by the equal sign, e.g. +=, -=, *=, etc."
   ]
  },
  {
   "cell_type": "code",
   "execution_count": null,
   "metadata": {
    "collapsed": true,
    "scrolled": true
   },
   "outputs": [],
   "source": [
    "# Normal operator +\n",
    "a = 3\n",
    "a = a + 2\n",
    "print(a)\n",
    "\n",
    "# Assignment operator +=\n",
    "a = 3\n",
    "a += 2\n",
    "print(a)"
   ]
  },
  {
   "cell_type": "markdown",
   "metadata": {},
   "source": [
    "Some operators work differently on numbers and strings. Most notably, the + operator is used for concatenation and the * operator is used for repetition when used with strings."
   ]
  },
  {
   "cell_type": "code",
   "execution_count": null,
   "metadata": {
    "collapsed": true,
    "scrolled": true
   },
   "outputs": [],
   "source": [
    "a = \"Hello\"\n",
    "b = \"World\"\n",
    "print(a + b)\n",
    "print(3 * a)"
   ]
  },
  {
   "cell_type": "markdown",
   "metadata": {},
   "source": [
    "Python will __not__ let you concatenate numbers and strings together! Use the str() function to convert a number to a string prior to concatenation."
   ]
  },
  {
   "cell_type": "code",
   "execution_count": null,
   "metadata": {
    "collapsed": true
   },
   "outputs": [],
   "source": [
    "a = \"My age is \"\n",
    "b = 54\n",
    "print(a + b) # Error!"
   ]
  },
  {
   "cell_type": "code",
   "execution_count": null,
   "metadata": {
    "collapsed": true
   },
   "outputs": [],
   "source": [
    "print(a + str(b)) # Works!"
   ]
  },
  {
   "cell_type": "markdown",
   "metadata": {},
   "source": [
    "### A note on error messages:\n",
    "When an error occurs, Python usually provides you with a detailed description of where something went wrong. __Error messages are your friend!__ Take some time to study the report and try to figure out in what line the error occured and what kind of error it is. Learning to efficiently deal with error reports will save you a lot of frustration when writing your own programs."
   ]
  },
  {
   "cell_type": "markdown",
   "metadata": {},
   "source": [
    "## 4. Data structures"
   ]
  },
  {
   "cell_type": "markdown",
   "metadata": {},
   "source": [
    "Data structures are used to store data. Depending on the type of data, one data structure might be more suited than another. In the following, we will have a brief look at four different commonly used native python data structures:\n",
    "- [List](#4.1-List)\n",
    "- [Tuple](#4.2-Tuple)\n",
    "- [Dictionary](#4.3-Dictionary)\n",
    "- [Set](#4.4-Set)"
   ]
  },
  {
   "cell_type": "markdown",
   "metadata": {},
   "source": [
    "### 4.1 List"
   ]
  },
  {
   "cell_type": "markdown",
   "metadata": {},
   "source": [
    "A list is a collection of items, that is __ordered__ and __mutable__. Lists are useful if your data is somehow ordered (e.g. a timeseries), because it makes selecting items in relation to each other very efficient via indexing."
   ]
  },
  {
   "cell_type": "markdown",
   "metadata": {},
   "source": [
    "Square brackets [ ] are used for list creation as well as indexing, i.e. accessing elements in the list."
   ]
  },
  {
   "cell_type": "code",
   "execution_count": null,
   "metadata": {
    "collapsed": true,
    "scrolled": false
   },
   "outputs": [],
   "source": [
    "my_list = [1, 2, 3, 9, 12]\n",
    "print(my_list)"
   ]
  },
  {
   "cell_type": "markdown",
   "metadata": {},
   "source": [
    "List items can be of different types. It is even possible to \"nest\" one list in another one."
   ]
  },
  {
   "cell_type": "code",
   "execution_count": null,
   "metadata": {
    "collapsed": true,
    "scrolled": true
   },
   "outputs": [],
   "source": [
    "my_list = [2, 'hello', [5,4,3], 5, 77, 3, 12, 13]\n",
    "print(my_list)"
   ]
  },
  {
   "cell_type": "markdown",
   "metadata": {},
   "source": [
    "As __python is 0-based__, the first element in a list is at position list[0]. Access the first element of the inner list by using a second square bracket. The more to the right a square bracket, the deeper nested the accessed element is."
   ]
  },
  {
   "cell_type": "code",
   "execution_count": null,
   "metadata": {
    "collapsed": true,
    "scrolled": true
   },
   "outputs": [],
   "source": [
    "print(my_list[0])\n",
    "print(my_list[2])\n",
    "print(my_list[2][0])\n",
    "print(my_list[2][1])"
   ]
  },
  {
   "cell_type": "markdown",
   "metadata": {},
   "source": [
    "Python supports also negative indexing. The index -1 always returns the last element."
   ]
  },
  {
   "cell_type": "code",
   "execution_count": null,
   "metadata": {
    "collapsed": true
   },
   "outputs": [],
   "source": [
    "my_list[-1]"
   ]
  },
  {
   "cell_type": "markdown",
   "metadata": {},
   "source": [
    "Because lists are ordered, it is also possible to extract multiple adjacent items at once by using a colon (:). This is called slicing. \n",
    "- The start index is inclusive (included in the slice).\n",
    "- The end index is exclusive (not included in the slice).\n",
    "- Omitting the end index slices until the end of the list. \n",
    "- Omitting the start index slices from the start of the list.\n",
    "- Don't forget  that python is 0-based."
   ]
  },
  {
   "cell_type": "code",
   "execution_count": null,
   "metadata": {
    "collapsed": true
   },
   "outputs": [],
   "source": [
    "print(my_list)\n",
    "print('-'*20)\n",
    "print(my_list[4:6])\n",
    "print(my_list[4:])\n",
    "print(my_list[:6])"
   ]
  },
  {
   "cell_type": "markdown",
   "metadata": {},
   "source": [
    "Items can be easily replaced by assigning a new item to the desired position."
   ]
  },
  {
   "cell_type": "code",
   "execution_count": null,
   "metadata": {
    "collapsed": true
   },
   "outputs": [],
   "source": [
    "print(my_list)\n",
    "my_list[0] = 'New York'\n",
    "print(my_list)"
   ]
  },
  {
   "cell_type": "markdown",
   "metadata": {},
   "source": [
    "Test if a list contains an element by using the __in__ keyword."
   ]
  },
  {
   "cell_type": "code",
   "execution_count": null,
   "metadata": {
    "collapsed": true
   },
   "outputs": [],
   "source": [
    "print(\"hello\" in my_list)\n",
    "print(-999 in my_list)"
   ]
  },
  {
   "cell_type": "markdown",
   "metadata": {},
   "source": [
    "#### Useful list operations\n",
    "- Lists can dynamically grow and shrink using append() and pop().\n",
    "- Lists can be easily reversed and sorted using reverse() and sort().\n",
    "- The number of elements can be found with the len() function.\n",
    "- Lists support the + and * operators for concatenation and repetition.\n",
    "\n",
    "Note below how append(), pop(), reverse() and sort() change the list __in-place__. That means the list itself is changed and these functions do not return a modified result list. Because such in-place operations are possible, lists are called mutable.\n",
    "\n",
    "A summary of all list operations can be found <a href=\"https://www.programiz.com/python-programming/methods/list\" target=\"_blank\">here</a>."
   ]
  },
  {
   "cell_type": "code",
   "execution_count": null,
   "metadata": {
    "collapsed": true
   },
   "outputs": [],
   "source": [
    "my_list = [4, 2, 1, 5]\n",
    "print(my_list)\n",
    "my_list.append(7) # append(x) appends x at the end of the list. \n",
    "print(my_list)\n",
    "popped_element = my_list.pop() # pop() returns the last element and removes it from the list.\n",
    "print(my_list)\n",
    "print(popped_element)"
   ]
  },
  {
   "cell_type": "code",
   "execution_count": null,
   "metadata": {
    "collapsed": true
   },
   "outputs": [],
   "source": [
    "print(my_list)\n",
    "my_list.reverse() # reverse(x) reverses the elements in x.\n",
    "print(my_list)\n",
    "my_list.sort() # sort(x) sorts the elements in x.\n",
    "print(my_list)"
   ]
  },
  {
   "cell_type": "code",
   "execution_count": null,
   "metadata": {
    "collapsed": true
   },
   "outputs": [],
   "source": [
    "nr_items = len(my_list) # len(x) returns the number of elements in x.\n",
    "print(nr_items)"
   ]
  },
  {
   "cell_type": "code",
   "execution_count": null,
   "metadata": {
    "collapsed": true
   },
   "outputs": [],
   "source": [
    "# The + operator allows to concatenate lists.\n",
    "a = [2, 3, 4]\n",
    "b = [5, 6, 7]\n",
    "c = a + b\n",
    "print(c)"
   ]
  },
  {
   "cell_type": "code",
   "execution_count": null,
   "metadata": {
    "collapsed": true,
    "scrolled": true
   },
   "outputs": [],
   "source": [
    "# The * operator allows to repeate lists.\n",
    "a * 3"
   ]
  },
  {
   "cell_type": "markdown",
   "metadata": {},
   "source": [
    "### Mutability caveats\n",
    "The mutable nature of lists can lead to some confusing behaviour for beginners. For example consider the following example that assigns a number to a, then assigns a to b and finally changes the value associated with b. In the end, a and b are different, which is intuitive:"
   ]
  },
  {
   "cell_type": "code",
   "execution_count": null,
   "metadata": {
    "collapsed": true
   },
   "outputs": [],
   "source": [
    "a = 7\n",
    "b = a\n",
    "print(b)\n",
    "b = 4\n",
    "print(a)\n",
    "print(b)"
   ]
  },
  {
   "cell_type": "markdown",
   "metadata": {},
   "source": [
    "However, watch what happens when doing the same to lists:"
   ]
  },
  {
   "cell_type": "code",
   "execution_count": null,
   "metadata": {
    "collapsed": true
   },
   "outputs": [],
   "source": [
    "a = [1,2,3]\n",
    "b = a\n",
    "print(b)\n",
    "b[1] = 7\n",
    "print(a)\n",
    "print(b)"
   ]
  },
  {
   "cell_type": "markdown",
   "metadata": {},
   "source": [
    "By just changing b we also modified a! How is this possible? With a small modification (note the a.copy()) it works as expected:"
   ]
  },
  {
   "cell_type": "code",
   "execution_count": null,
   "metadata": {
    "collapsed": true
   },
   "outputs": [],
   "source": [
    "a = [1,2,3]\n",
    "b = a.copy()\n",
    "print(b)\n",
    "b[1] = 7\n",
    "print(a)\n",
    "print(b)"
   ]
  },
  {
   "cell_type": "markdown",
   "metadata": {},
   "source": [
    "The explanation is rooted in the very fundamental way of what variables in python really are and is out of scope for this tutorial. __Just remember that with mutable datatypes an assignment (=) is not equivalent with creating a independent copy. To achieve this use .copy()!__ In case of nested structures you might want to have a look at the deepcopy module.\n",
    "\n",
    "If you would like to dig deeper, I'd recommend this <a href=\"https://standupdev.com/wiki/doku.php?id=python_tuples_are_immutable_but_may_change\" target=\"_blank\">fantastic article</a>."
   ]
  },
  {
   "cell_type": "markdown",
   "metadata": {},
   "source": [
    "### 4.2 Tuple"
   ]
  },
  {
   "cell_type": "markdown",
   "metadata": {},
   "source": [
    "A tuple is a collection of items, that is __ordered__ and __immutable__. Compared to lists, they cannot be changed once they have been created. Although tuples have many uses, we will only use them as multi-dimensional keys for dictionaries (next section), because dictionary keys must be immutable."
   ]
  },
  {
   "cell_type": "markdown",
   "metadata": {},
   "source": [
    "- Round brackets ( ) are used to create a tuple. \n",
    "- Square brackets [ ] are used to access elements.\n",
    "- Indexing and slicing is the same as with lists.\n",
    "- Just like lists, tuples can hold all kinds of different data.\n",
    "\n",
    "A summary of all tuple operations can be found <a href=\"https://www.programiz.com/python-programming/methods/tuple\" target=\"_blank\">here</a>."
   ]
  },
  {
   "cell_type": "code",
   "execution_count": null,
   "metadata": {
    "collapsed": true,
    "scrolled": true
   },
   "outputs": [],
   "source": [
    "my_tuple = (1, 3, 5, 'hello')\n",
    "print(my_tuple[1])"
   ]
  },
  {
   "cell_type": "markdown",
   "metadata": {},
   "source": [
    "Compared to lists, it is not possible to change an element of a tuple."
   ]
  },
  {
   "cell_type": "code",
   "execution_count": null,
   "metadata": {
    "collapsed": true,
    "scrolled": true
   },
   "outputs": [],
   "source": [
    "my_tuple[1] = 9 # Error!"
   ]
  },
  {
   "cell_type": "markdown",
   "metadata": {},
   "source": [
    "### 4.3 Dictionary"
   ]
  },
  {
   "cell_type": "markdown",
   "metadata": {},
   "source": [
    "A dictionary is a collection of items, that is __unordered__ and __mutable__. Each item consists of a __key:value__ pair, whereby the key is used to look up the associated value. Dictionaries are useful if your data is unordered and has some meaningful labels that can act as keys. An example would be customer data (value) with an associated unique ID (key). \n",
    "\n",
    "One advantage of dictionaries over lists is their lookup speed. Even with millions of items, searching for the value associated with a specific key is blazingly fast. The same operation would take a lot longer on a list of similar size. A second advantage is the nature of the key:value pair, which would be very cumbersome to implement using only lists."
   ]
  },
  {
   "cell_type": "markdown",
   "metadata": {},
   "source": [
    "- Curly brackets { } are used for dictionary creation. \n",
    "- The key is separated from the value by a colon (:). \n",
    "- Key:value pairs are separated by commas (,). \n",
    "- A key can be numeric or a string. \n",
    "- The value can be of any type, e.g. list, another dictionary, numeric or string."
   ]
  },
  {
   "cell_type": "code",
   "execution_count": null,
   "metadata": {
    "collapsed": true
   },
   "outputs": [],
   "source": [
    "my_dict = {\"key1\":\"value1\", \"key2\":234, 99:[1,2,3]}\n",
    "print(my_dict)"
   ]
  },
  {
   "cell_type": "markdown",
   "metadata": {},
   "source": [
    "Test if a key exists with the __in__ keyword."
   ]
  },
  {
   "cell_type": "code",
   "execution_count": null,
   "metadata": {
    "collapsed": true
   },
   "outputs": [],
   "source": [
    "print(\"key1\" in my_dict)\n",
    "print(\"key4\" in my_dict)"
   ]
  },
  {
   "cell_type": "markdown",
   "metadata": {},
   "source": [
    "Values can be accessed via the corresponding key either using square brackets [] or the get() function."
   ]
  },
  {
   "cell_type": "code",
   "execution_count": null,
   "metadata": {
    "collapsed": true
   },
   "outputs": [],
   "source": [
    "print(my_dict[\"key1\"])\n",
    "print(my_dict[99])\n",
    "print(my_dict[\"key2\"])"
   ]
  },
  {
   "cell_type": "markdown",
   "metadata": {},
   "source": [
    "If the key does not exists, a \"KeyError\" error is raised when using the square brackets."
   ]
  },
  {
   "cell_type": "code",
   "execution_count": null,
   "metadata": {
    "collapsed": true,
    "scrolled": true
   },
   "outputs": [],
   "source": [
    "my_dict[\"key4\"]"
   ]
  },
  {
   "cell_type": "markdown",
   "metadata": {},
   "source": [
    "Alternatively, get(\"key\", \"default\") can be used to get the value associated with \"key\". __Compared to the [ ] notation, a missing key does not raise an error, but returns the value specied as \"default\".__"
   ]
  },
  {
   "cell_type": "code",
   "execution_count": null,
   "metadata": {
    "collapsed": true,
    "scrolled": true
   },
   "outputs": [],
   "source": [
    "value = my_dict.get(\"key1\", None) # key1 exists -> associated value (\"value1\") is returned\n",
    "print(value)\n",
    "value = my_dict.get(\"key4\", None) # key4 does not exist -> None is returned\n",
    "print(value)"
   ]
  },
  {
   "cell_type": "markdown",
   "metadata": {},
   "source": [
    "#### Note: \n",
    "The keyword __None__ in python is a valid constant, however it has no value and will always evaluate to False (see later). It basically means \"Nothing\" and is roughly comparable to R's NULL."
   ]
  },
  {
   "cell_type": "markdown",
   "metadata": {},
   "source": [
    "A new key:value pair is added by assigning the value to a key that does not exist yet. __If a key already exists, the existing associated value is overwritten.__"
   ]
  },
  {
   "cell_type": "code",
   "execution_count": null,
   "metadata": {
    "collapsed": true
   },
   "outputs": [],
   "source": [
    "print(my_dict)\n",
    "my_dict[\"new_key\"] = 66\n",
    "print(my_dict)\n",
    "my_dict[\"key1\"] = -763\n",
    "print(my_dict)"
   ]
  },
  {
   "cell_type": "markdown",
   "metadata": {},
   "source": [
    "Tuples are valid dictionary keys. They can be used as __multidimensional keys__. Note how the round brackets of tuples can be omitted when retrieving the values."
   ]
  },
  {
   "cell_type": "code",
   "execution_count": null,
   "metadata": {
    "collapsed": true,
    "scrolled": true
   },
   "outputs": [],
   "source": [
    "my_dict = {('Marc', 1): 44, ('Marc', 2): 21, (5,4): -7}\n",
    "print(my_dict)"
   ]
  },
  {
   "cell_type": "code",
   "execution_count": null,
   "metadata": {
    "collapsed": true
   },
   "outputs": [],
   "source": [
    "my_dict['Marc', 2]"
   ]
  },
  {
   "cell_type": "markdown",
   "metadata": {},
   "source": [
    "#### Useful dictionary operations\n",
    "\n",
    "- The number of key:value pairs can be found with the len() function.\n",
    "- Keys and values can easily be extracted using the keys() and values() function respectively. Key:value pairs are extracted using the items() function.\n",
    "- Merge two dictionaries using the update() function.\n",
    "- Easily return and remove the value associated with a key using the pop() function.\n",
    "\n",
    "Just like with lists, note below how update() and pop() change the dictionary __in-place__. That means the dictionary itself is changed and these functions do not return a result that needs to be assigned to a variable again.\n",
    "\n",
    "A summary of all dictionary operations can be found <a href=\"https://www.programiz.com/python-programming/methods/dictionary\" target=\"_blank\">here</a>."
   ]
  },
  {
   "cell_type": "code",
   "execution_count": null,
   "metadata": {
    "collapsed": true
   },
   "outputs": [],
   "source": [
    "my_dict = {'Marc': 34, 'Anna': 66, 'Pete': 98, 'Elena':32}\n",
    "print(my_dict)\n",
    "nr_items = len(my_dict)\n",
    "print(nr_items)"
   ]
  },
  {
   "cell_type": "code",
   "execution_count": null,
   "metadata": {
    "collapsed": true
   },
   "outputs": [],
   "source": [
    "all_keys = my_dict.keys() # Return all keys from my_dict. Using values() would do the same for the values.\n",
    "list(all_keys) # Convert them to a list."
   ]
  },
  {
   "cell_type": "code",
   "execution_count": null,
   "metadata": {
    "collapsed": true,
    "scrolled": false
   },
   "outputs": [],
   "source": [
    "# Update dict_1 with the key:values of dict_2. For identical keys, the value of dict_1 is overwritten.\n",
    "dict_1 = {'a':4, 'b':5}\n",
    "dict_2 = {'c':6, 'b':9}\n",
    "dict_1.update(dict_2)\n",
    "print(dict_1)"
   ]
  },
  {
   "cell_type": "code",
   "execution_count": null,
   "metadata": {
    "collapsed": true,
    "scrolled": true
   },
   "outputs": [],
   "source": [
    "# pop(key, default) removes the value of the corresponding key from the dictionary and returns it.\n",
    "# If the key does not exist, the default value is returned instead. Note the similarity to get(key, default).\n",
    "print(dict_1)\n",
    "popped_element_1 = dict_1.pop('b', None) # key exists\n",
    "print(dict_1)\n",
    "print(popped_element_1)\n",
    "popped_element_2 = dict_1.pop('z', None) # key does not exist\n",
    "print(popped_element_2)"
   ]
  },
  {
   "cell_type": "markdown",
   "metadata": {},
   "source": [
    "### 4.4 Set"
   ]
  },
  {
   "cell_type": "markdown",
   "metadata": {},
   "source": [
    "Sets are __unordered__, __mutable__ collections of __unique__ items.\n",
    "\n",
    "#### Creation and indexing\n",
    "- Curly brackets { } or the set() function are used for set creation.\n",
    "- As they are unordered, sets do not support indexing.\n",
    "- Lists can easily be converted to sets and vice versa."
   ]
  },
  {
   "cell_type": "markdown",
   "metadata": {},
   "source": [
    "Sets have a lot of interesting use cases, but we will only demonstrate the common case of extracting the unique elements from a list using a set:"
   ]
  },
  {
   "cell_type": "code",
   "execution_count": null,
   "metadata": {
    "collapsed": true
   },
   "outputs": [],
   "source": [
    "# List with duplicates\n",
    "list_with_duplicates = [1, 2, 3, 1, 2, 1, 4]\n",
    "print(list_with_duplicates)\n",
    "# Convert to a set, thus removing duplicates\n",
    "my_set = set(list_with_duplicates)\n",
    "print(my_set)\n",
    "# Convert set back to a list (note in the output how the curly brackets { } change to square brackets [ ])\n",
    "list_without_duplicates = list(my_set)\n",
    "print(list_without_duplicates)"
   ]
  },
  {
   "cell_type": "markdown",
   "metadata": {},
   "source": [
    "A summary of all set operations can be found <a href=\"https://www.programiz.com/python-programming/methods/set\" target=\"_blank\">here</a>."
   ]
  },
  {
   "cell_type": "markdown",
   "metadata": {},
   "source": [
    "## 5. Importing"
   ]
  },
  {
   "cell_type": "markdown",
   "metadata": {
    "collapsed": true
   },
   "source": [
    "After downloading and installing a package via a package manager (pip or conda), we __import__ that code to make use of it in our own application. There are several ways how we can do this, but the common denominator to all is the use of the keyword __import__. Importing all needed modules at the very top of your own module is considered good practise.\n",
    "\n",
    "We will use the \"random\" module of the standard library, which contains a bunch of functions allowing us to do literally random stuff. The __shuffle()__ function takes an array and randomly changes its items in-place. As this module is in the standard library, we do not need to first install it as it comes bundled with standard python installation."
   ]
  },
  {
   "cell_type": "markdown",
   "metadata": {},
   "source": [
    "#### Module or package?\n",
    "Every file with python code is a module with the same name as the file (without the \\*.py extension) and can be easily imported into other modules. A collection of modules grouped in a directory with a special \\_\\_init\\_\\_.py file is called a package. However, a lot of people use these names interchangeably. There is much more to that topic <a href=\"https://realpython.com/python-modules-packages/\" target=\"_blank\">here</a>."
   ]
  },
  {
   "cell_type": "markdown",
   "metadata": {},
   "source": [
    "### 5.1 import random\n",
    "This is a very common way to import a module. Note that we use the name of the module as prefix to call functions (in that case shuffle). So each function x from random we can call as random.x()."
   ]
  },
  {
   "cell_type": "code",
   "execution_count": null,
   "metadata": {
    "collapsed": true
   },
   "outputs": [],
   "source": [
    "import random\n",
    "\n",
    "my_list = [1, 2, 3, 4]\n",
    "print(my_list)\n",
    "random.shuffle(my_list)\n",
    "print(my_list)"
   ]
  },
  {
   "cell_type": "markdown",
   "metadata": {},
   "source": [
    "### 5.2 import random as rnd\n",
    "This is basically the same as \"import random\", but we assign a custom name to the imported module. We then use this (often shorter) name as prefix when using a module function. This is often used when we make extensive use of many functions of a package, e.g. when working with numpy (import numpy as np), pandas (import pandas as pd) or pyplot (import matplotlib.pyplot as plt)."
   ]
  },
  {
   "cell_type": "code",
   "execution_count": null,
   "metadata": {
    "collapsed": true
   },
   "outputs": [],
   "source": [
    "import random as rnd\n",
    "\n",
    "my_list = [1, 2, 3, 4]\n",
    "print(my_list)\n",
    "rnd.shuffle(my_list)\n",
    "print(my_list)"
   ]
  },
  {
   "cell_type": "code",
   "execution_count": null,
   "metadata": {
    "collapsed": true,
    "scrolled": true
   },
   "outputs": [],
   "source": [
    "import random as rnd\n",
    "import matplotlib.pyplot as plt\n",
    "\n",
    "x = [1, 2, 3, 4, 5, 6, 7, 8, 9]\n",
    "y = [1, 1, 2, 3, 5, 8, 13, 21, 34]\n",
    "rnd.shuffle(y)\n",
    "plt.plot(x, y)\n",
    "plt.show()"
   ]
  },
  {
   "cell_type": "markdown",
   "metadata": {},
   "source": [
    "### 5.3 from random import shuffle\n",
    "It is possible to import a specific function from a module. That way no prefix is needed, as the function is completely copied to our module. We can then use the function as if it was defined in our module."
   ]
  },
  {
   "cell_type": "code",
   "execution_count": null,
   "metadata": {
    "collapsed": true
   },
   "outputs": [],
   "source": [
    "from random import shuffle\n",
    "\n",
    "my_list = [1, 2, 3, 4]\n",
    "print(my_list)\n",
    "shuffle(my_list)\n",
    "print(my_list)"
   ]
  },
  {
   "cell_type": "markdown",
   "metadata": {},
   "source": [
    "### 5.4 from random import *\n",
    "This is similar to \"from random import shuffle\", but the star (\\*) means that we not only import the function shuffle, but __every__ function of that module into our module. We can then use every function of this module without prefix, as if we defined them in our modules. This import statement is generally considered bad practise, because it pollutes the namespace of our module with a potentially huge amount of functions and variables which can lead to a lot of confusion.\n",
    "\n",
    "However, for very specialized use cases that make heavy use of a single module, this import statement might be suitable. We use it in the case of the pyomo optimization package."
   ]
  },
  {
   "cell_type": "code",
   "execution_count": null,
   "metadata": {
    "collapsed": true,
    "scrolled": true
   },
   "outputs": [],
   "source": [
    "from random import *\n",
    "\n",
    "my_list = [1, 2, 3, 4]\n",
    "print(my_list)\n",
    "shuffle(my_list)\n",
    "print(my_list)"
   ]
  },
  {
   "cell_type": "markdown",
   "metadata": {},
   "source": [
    "## 6. The search for truth and branching"
   ]
  },
  {
   "cell_type": "markdown",
   "metadata": {},
   "source": [
    "Branching is the process of making decisions in a program using if-else statements. To that end, an expression must evaluate to either __True__ or __False__."
   ]
  },
  {
   "cell_type": "markdown",
   "metadata": {},
   "source": [
    "### 6.1 Is it True or False...?\n",
    "Comparisons luckily work as in any other language:"
   ]
  },
  {
   "cell_type": "code",
   "execution_count": null,
   "metadata": {
    "collapsed": true,
    "scrolled": true
   },
   "outputs": [],
   "source": [
    "print(3 > 3)\n",
    "print(3 >= 3)\n",
    "print(4 == 5)\n",
    "print(4 != 5)"
   ]
  },
  {
   "cell_type": "markdown",
   "metadata": {},
   "source": [
    "In Python, __everything__ can be evaluated as either True or False. This has some interesting implications, as it allows us to test for empty strings, empty lists, empty dictionaries, empty objects or the constant None, which all evaluate to false when put to a boolean test. The function __bool()__ can be used to force evaluation of an expression:"
   ]
  },
  {
   "cell_type": "code",
   "execution_count": null,
   "metadata": {
    "collapsed": true
   },
   "outputs": [],
   "source": [
    "# List\n",
    "print(bool([]))\n",
    "print(bool([2, \"hello\"]))"
   ]
  },
  {
   "cell_type": "code",
   "execution_count": null,
   "metadata": {
    "collapsed": true
   },
   "outputs": [],
   "source": [
    "# Dictionary\n",
    "print(bool({}))\n",
    "print(bool({'key1':\"hello\"}))"
   ]
  },
  {
   "cell_type": "code",
   "execution_count": null,
   "metadata": {
    "collapsed": true
   },
   "outputs": [],
   "source": [
    "# String\n",
    "print(bool(\"\"))\n",
    "print(bool(\"hello\"))"
   ]
  },
  {
   "cell_type": "code",
   "execution_count": null,
   "metadata": {
    "collapsed": true
   },
   "outputs": [],
   "source": [
    "# Numeric\n",
    "print(bool(0))\n",
    "print(bool(0.0))\n",
    "print(bool(1.3))"
   ]
  },
  {
   "cell_type": "code",
   "execution_count": null,
   "metadata": {
    "collapsed": true
   },
   "outputs": [],
   "source": [
    "# None\n",
    "print(bool(None))"
   ]
  },
  {
   "cell_type": "markdown",
   "metadata": {},
   "source": [
    "__Boolean logic__ uses the keywords __and__, __or__ and __not__ to evaluate multiple comparisons:"
   ]
  },
  {
   "cell_type": "code",
   "execution_count": null,
   "metadata": {
    "collapsed": true
   },
   "outputs": [],
   "source": [
    "# AND evaluates to True only if both operands are True\n",
    "print(True and True)\n",
    "print(False and True)\n",
    "print(False and False)\n",
    "print(5 > 3 and 7 < 12)"
   ]
  },
  {
   "cell_type": "code",
   "execution_count": null,
   "metadata": {
    "collapsed": true
   },
   "outputs": [],
   "source": [
    "# OR evaluates to True if one or both operands are True\n",
    "print(True or True)\n",
    "print(False or True)\n",
    "print(False or False)\n",
    "print(5 > 3 or 7 < 12)"
   ]
  },
  {
   "cell_type": "code",
   "execution_count": null,
   "metadata": {
    "collapsed": true
   },
   "outputs": [],
   "source": [
    "# NOT negates the evaluation\n",
    "print(not True)\n",
    "print(not(True and False))\n",
    "print(not None)"
   ]
  },
  {
   "cell_type": "markdown",
   "metadata": {},
   "source": [
    "### 6.2 If - elif - else\n",
    "The __if__ statement is followed by a boolean expression that will eventually evaluate to True or False and is terminated by a colon (:). Accidentally omitting the colon is one of the most common errors for beginners."
   ]
  },
  {
   "cell_type": "code",
   "execution_count": null,
   "metadata": {
    "collapsed": true,
    "scrolled": false
   },
   "outputs": [],
   "source": [
    "# If the condition is True, the if block gets executed.\n",
    "# If the condition is False, the if block is skipped.\n",
    "x = 6\n",
    "if x < 9:\n",
    "    print(\"x is smaller than 9\")\n",
    "if x < 5:\n",
    "    print(\"x is smaller than 5\")"
   ]
  },
  {
   "cell_type": "markdown",
   "metadata": {},
   "source": [
    "<hr>"
   ]
  },
  {
   "cell_type": "markdown",
   "metadata": {},
   "source": [
    "## Exkurs: A word about indentation"
   ]
  },
  {
   "cell_type": "markdown",
   "metadata": {},
   "source": [
    "In the cell above you might have asked yourself how python knows what lines should only be executed if the if statement is true and what lines should be executed everytime as part of the main script. There are no curly brackets (hello java, R and the C family) and no keywords like \"end\" (hello Matlab and Julia).\n",
    "\n",
    "The answer: __indentation__\n",
    "\n",
    "Python programs are structured by their indentation, meaning how many whitespaces there are before the line starts. All consecutive lines with same indentations are called a suite (or block) and belong together. This design decision forces the programmer to have a consisten structure and is responsible for the clean and easy-to-read look of the language. \n",
    "\n",
    "__By the way:__ In this notebook you may also use tabs to indent your code. Jupyter will automatically convert each tab to 4 whitespaces."
   ]
  },
  {
   "cell_type": "markdown",
   "metadata": {},
   "source": [
    "<hr>"
   ]
  },
  {
   "cell_type": "code",
   "execution_count": null,
   "metadata": {
    "collapsed": true
   },
   "outputs": [],
   "source": [
    "x = 4\n",
    "if x < 9:\n",
    "    print(\"x is smaller than 9\")\n",
    "    print(\"I am indented and therefore part of the if block!\")\n",
    "print(\"I am not indented and therefore I get executed every time!\")"
   ]
  },
  {
   "cell_type": "code",
   "execution_count": null,
   "metadata": {
    "collapsed": true
   },
   "outputs": [],
   "source": [
    "x = 10\n",
    "if x < 9:\n",
    "    print(\"x is smaller than 9\")\n",
    "    print(\"I am indented and therefore part of the if block!\")\n",
    "print(\"I am not indented and therefore I get executed every time!\")"
   ]
  },
  {
   "cell_type": "markdown",
   "metadata": {},
   "source": [
    "An if block can be followed by an __else__ block, which is executed whenever the statement evaluates to False:"
   ]
  },
  {
   "cell_type": "code",
   "execution_count": null,
   "metadata": {
    "collapsed": true
   },
   "outputs": [],
   "source": [
    "x = 10\n",
    "if x < 9:\n",
    "    print(\"x is smaller than 9\")\n",
    "else:\n",
    "    print(\"x is larger or equal than 9\")"
   ]
  },
  {
   "cell_type": "markdown",
   "metadata": {},
   "source": [
    "Comparisons can also be chained. An if block can be followed by an __elif__ block (else if). The elif condition is only evaluated, if the __first if condition evaluates to False__. If the elif condition evaluates to True, the elif block is executed. If the elif condition evaluates to False, the else block is excuted."
   ]
  },
  {
   "cell_type": "code",
   "execution_count": null,
   "metadata": {
    "collapsed": true
   },
   "outputs": [],
   "source": [
    "x = 9\n",
    "if x < 9:\n",
    "    print(\"x is smaller than 9\")\n",
    "elif x == 9:\n",
    "    print(\"x is exactly 9\")\n",
    "else:\n",
    "    print(\"x is larger than 9\")"
   ]
  },
  {
   "cell_type": "markdown",
   "metadata": {},
   "source": [
    "## 7. Looping"
   ]
  },
  {
   "cell_type": "markdown",
   "metadata": {},
   "source": [
    "We will only look at the __for-loop__, which is used to iterate (or traverse) over a sequence of values."
   ]
  },
  {
   "cell_type": "markdown",
   "metadata": {},
   "source": [
    "### 7.1 Looping over a list\n",
    "__Version 1 - Direct assignment to loop variable:__ Each list element is assigned directly to the loop variable item in each iteration:"
   ]
  },
  {
   "cell_type": "code",
   "execution_count": null,
   "metadata": {
    "collapsed": true,
    "scrolled": false
   },
   "outputs": [],
   "source": [
    "my_list = [3, 2, 5, 4]\n",
    "for item in my_list:\n",
    "    print(item)"
   ]
  },
  {
   "cell_type": "markdown",
   "metadata": {},
   "source": [
    "If the list to iterate over consists of __pairs of data__, python allows for simulaneous assignment via multiple loop variables:"
   ]
  },
  {
   "cell_type": "code",
   "execution_count": null,
   "metadata": {
    "collapsed": true,
    "scrolled": true
   },
   "outputs": [],
   "source": [
    "my_list = [[3,4], [7,8], [5,4]]\n",
    "for first, second in my_list:\n",
    "    print(str(first) + ' | ' + str(second))"
   ]
  },
  {
   "cell_type": "markdown",
   "metadata": {},
   "source": [
    "The same of course works for tuples:"
   ]
  },
  {
   "cell_type": "code",
   "execution_count": null,
   "metadata": {
    "collapsed": true
   },
   "outputs": [],
   "source": [
    "my_list = [(3,4), (7,8), (5,4)]\n",
    "for first, second in my_list:\n",
    "    print(str(first) + ' | ' + str(second))"
   ]
  },
  {
   "cell_type": "markdown",
   "metadata": {},
   "source": [
    "__Version 2 - Generation of consecutive integers to be used as list indices:__ The functions range() and len() are used to generate a list of consecutive integers in the form of (0, 1, 2 ..., len(list)-1) which are used as loop variable in each iteration to access the current element of the list:"
   ]
  },
  {
   "cell_type": "code",
   "execution_count": null,
   "metadata": {
    "collapsed": true,
    "scrolled": true
   },
   "outputs": [],
   "source": [
    "list(range(3,10))"
   ]
  },
  {
   "cell_type": "markdown",
   "metadata": {},
   "source": [
    "If only one number is supported, the sequence will start from 0 up to that number (exclusive)."
   ]
  },
  {
   "cell_type": "code",
   "execution_count": null,
   "metadata": {
    "collapsed": true
   },
   "outputs": [],
   "source": [
    "list(range(10))"
   ]
  },
  {
   "cell_type": "code",
   "execution_count": null,
   "metadata": {
    "collapsed": true
   },
   "outputs": [],
   "source": [
    "my_list = [3, 2, 5, 4]\n",
    "for k in range(len(my_list)):\n",
    "    print(str(k) + ' can be used as index to access element ' + str(my_list[k]))"
   ]
  },
  {
   "cell_type": "markdown",
   "metadata": {},
   "source": [
    "### 7.2 Looping over a dictionary\n",
    "Iterating over a dictionary uses the function items() to produce a __sequence of key:value pairs__, which are assigned to the loop variables k and v respectively during each iteration in the example below:"
   ]
  },
  {
   "cell_type": "code",
   "execution_count": null,
   "metadata": {
    "collapsed": true,
    "scrolled": true
   },
   "outputs": [],
   "source": [
    "my_dict = {'Marc': 34, 'Anna': 66, 'Pete': 98, 'Elena':32}\n",
    "for k, v in my_dict.items():\n",
    "    print(str(k) + ' -> ' + str(v))"
   ]
  },
  {
   "cell_type": "markdown",
   "metadata": {},
   "source": [
    "### 7.3 Break and continue statements\n",
    "If a __break__ statement is executed in the body of a loop, the loop immediately terminates. The script will then continue after the loop body:"
   ]
  },
  {
   "cell_type": "code",
   "execution_count": null,
   "metadata": {
    "collapsed": true
   },
   "outputs": [],
   "source": [
    "# Iterate over my_list and check if each item evaluates to True.\n",
    "# If item evaluates to False, exit loop and resume script after loop body.\n",
    "my_list = [1, \"samo\", 5, None, 34, 64]\n",
    "for item in my_list:\n",
    "    if item:\n",
    "        print(\"Item evaluated to True: \" + str(item))\n",
    "    else:\n",
    "        print(\"Oh no! Item evaluated to False: \" + str(item))\n",
    "        print(\"Exit loop!\")\n",
    "        break\n",
    "print(\"I am a statement after the loop body!\")"
   ]
  },
  {
   "cell_type": "markdown",
   "metadata": {},
   "source": [
    "If a __continue__ statement is executed in the body of a loop, the current iteration immediately terminates and the __next__ iteration starts:"
   ]
  },
  {
   "cell_type": "code",
   "execution_count": null,
   "metadata": {
    "collapsed": true
   },
   "outputs": [],
   "source": [
    "# Execute the loop 3 times (with k = 0, 1, 2) and print \"ping\" followed by \"pong\".\n",
    "# If k == 1, print \"SMASH\" and execute continue, therefore skipping the \"pong\" in this iteration.\n",
    "# Note how the third iteration is still executed normally.\n",
    "for k in range(3):\n",
    "    print(\"ping\")\n",
    "    if k == 1:\n",
    "        print(\"SMASH\")\n",
    "        continue\n",
    "    print(\"pong\")"
   ]
  },
  {
   "cell_type": "markdown",
   "metadata": {},
   "source": [
    "## 8. Comprehensions"
   ]
  },
  {
   "cell_type": "markdown",
   "metadata": {},
   "source": [
    "### 8.1 List comprehension"
   ]
  },
  {
   "cell_type": "markdown",
   "metadata": {},
   "source": [
    "Often we want to iterate over a sequence, process each item and then return a new list with the results. In that case python offers a special syntax construct called __list comprehension__, which is both more concise as well as more efficient for that special use case. A list comprehension consists of a somehow \"flipped\" for-loop enclosed by square brackets.\n",
    "\n",
    "A list comprehension is nothing new, it really is just another way to write a for-loop. Hence, every list comprehension can be also written as a classic for-loop!\n",
    "\n",
    "The following list comprehension squares all elements of a list:"
   ]
  },
  {
   "cell_type": "code",
   "execution_count": null,
   "metadata": {
    "collapsed": true
   },
   "outputs": [],
   "source": [
    "my_list = [1, 2, 3, 4, 5]\n",
    "\n",
    "# List comprehension\n",
    "squares = [i**2 for i in my_list]\n",
    "print(squares)\n",
    "\n",
    "# Classic way to write the list comprehension above:\n",
    "squares = []\n",
    "for i in my_list:\n",
    "    squares.append(i**2)\n",
    "print(squares)"
   ]
  },
  {
   "cell_type": "markdown",
   "metadata": {},
   "source": [
    "It is also possible to __conditionally__ process elements using if-else statements. The example below only squares elements that are >= 3:"
   ]
  },
  {
   "cell_type": "code",
   "execution_count": null,
   "metadata": {
    "collapsed": true
   },
   "outputs": [],
   "source": [
    "my_list = [1, 2, 3, 4, 5]\n",
    "\n",
    "# List comprehension\n",
    "squares = [i**2 for i in my_list if i >= 3]\n",
    "print(squares)\n",
    "\n",
    "# Classic way to write the list comprehension above:\n",
    "squares = []\n",
    "for i in my_list:\n",
    "    if i >= 3:\n",
    "        squares.append(i**2)\n",
    "print(squares)"
   ]
  },
  {
   "cell_type": "markdown",
   "metadata": {},
   "source": [
    "It is also possible to use __nested for-loops__ in list comprehensions:"
   ]
  },
  {
   "cell_type": "code",
   "execution_count": null,
   "metadata": {
    "collapsed": true,
    "scrolled": true
   },
   "outputs": [],
   "source": [
    "card_values = ['2', '3', '4', '5', '6', '7', '8', '9', '10', 'J', 'Q', 'K', 'A']\n",
    "card_suits = ['hearts', 'spades', 'clubs', 'diamonds']\n",
    "\n",
    "# List comprehension:\n",
    "card_deck = [value + ' of ' + suit for value in card_values for suit in card_suits]\n",
    "print(card_deck)\n",
    "print('-' * 40)\n",
    "\n",
    "# Classic way to write the list comprehension above:\n",
    "card_deck = []\n",
    "for suit in card_suits:\n",
    "    for value in card_values:\n",
    "        card_deck.append(value + ' of ' + suit)\n",
    "print(card_deck)"
   ]
  },
  {
   "cell_type": "markdown",
   "metadata": {},
   "source": [
    "### 8.2 Dictionary comprehension"
   ]
  },
  {
   "cell_type": "markdown",
   "metadata": {},
   "source": [
    "Dictionary comprehensions are similar to list comprehensions. They are enclosed by curly brackets { } and they return a dictionary instead of a list. We will just scratch the surface with a simple example: Creating a new dictionary from a list of names - acting as keys - with associated values of 0."
   ]
  },
  {
   "cell_type": "code",
   "execution_count": null,
   "metadata": {},
   "outputs": [],
   "source": [
    "names = ['Peter', 'Sarah', 'Milow', 'Fred']\n",
    "new_dict = {name:0 for name in names}\n",
    "print(new_dict)"
   ]
  },
  {
   "cell_type": "markdown",
   "metadata": {},
   "source": [
    "### 8.3 Using comprehensions to calculate the sum product"
   ]
  },
  {
   "cell_type": "markdown",
   "metadata": {},
   "source": [
    "Pyomo makes heavy use of syntax that resembles list comprehensions in combination with the sum() function. This allows a concise calculation of the sum product, which is heavily used when formulating linear programming models.\n",
    "\n",
    "You will notice the lack of square brackets [ ] around the list comprehension syntax when used within the sum() function. That is because technically speaking this construct is not a list comprehension but a generator comprehension. To elaborate on generators is out of scope here. Sufficient to say that they are very close to list comprehensions but more memory efficient when dealing with large datasets. If this does not satisfy you, go <a href=\"https://stackoverflow.com/questions/364802/how-exactly-does-a-generator-comprehension-work\" target=\"_blank\">here</a>."
   ]
  },
  {
   "cell_type": "code",
   "execution_count": null,
   "metadata": {
    "collapsed": true
   },
   "outputs": [],
   "source": [
    "v1 = [2, 3, 4]\n",
    "v2 = [5, 6, 7]\n",
    "index_set = range(len(v1))\n",
    "\n",
    "# Sum product calculated by comprehension\n",
    "sum_product = sum(v1[m]*v2[m] for m in index_set)\n",
    "print(sum_product)\n",
    "\n",
    "# Classic way to write comprehension above:\n",
    "sum_product = 0\n",
    "for m in index_set:\n",
    "    sum_product += v1[m] * v2[m]\n",
    "print(sum_product)"
   ]
  },
  {
   "cell_type": "markdown",
   "metadata": {},
   "source": [
    "As you can see, using the combination of sum() with list comprehension like syntax allows us to calculate the sum product in one line of code. As you will see, pyomo works with dictionary like data structures. Calculating the sum is straight forward:"
   ]
  },
  {
   "cell_type": "code",
   "execution_count": null,
   "metadata": {
    "collapsed": true
   },
   "outputs": [],
   "source": [
    "# Calculating sum over dictionary\n",
    "my_dict = {'Peter':5, 'Sarah':4, 'Milow':2, 'Fred':7}\n",
    "index_set = my_dict.keys()\n",
    "\n",
    "summed = sum(my_dict[i] for i in index_set)\n",
    "print(summed)"
   ]
  },
  {
   "cell_type": "markdown",
   "metadata": {},
   "source": [
    "In the same way, also the sum product can be calculated from two dictionaries as long as they share the same keys:"
   ]
  },
  {
   "cell_type": "code",
   "execution_count": null,
   "metadata": {
    "collapsed": true
   },
   "outputs": [],
   "source": [
    "my_dict1 = {'Peter':5, 'Sarah':4, 'Milow':2, 'Fred':7}\n",
    "my_dict2 = {'Peter':2, 'Sarah':1, 'Milow':4, 'Fred':2}\n",
    "index_set = my_dict1.keys()\n",
    "\n",
    "sum_product = sum(my_dict1[i] * my_dict2[i] for i in index_set)\n",
    "print(sum_product)"
   ]
  },
  {
   "cell_type": "markdown",
   "metadata": {},
   "source": [
    "It is also possible to calculate the sum product of a list and a dictionary, as long as the keys of the dictionary can be used as valid list indices. However, you should avoid this as it tends to get confusing really fast:"
   ]
  },
  {
   "cell_type": "code",
   "execution_count": null,
   "metadata": {
    "collapsed": true
   },
   "outputs": [],
   "source": [
    "my_dict = {3:2, 1:4, 0:2, 2:5}\n",
    "my_list = [3, 2, 6, 4]\n",
    "index_set = my_dict.keys()\n",
    "\n",
    "sum_product = sum(my_dict[i] * my_list[i] for i in index_set)\n",
    "print(sum_product)"
   ]
  },
  {
   "cell_type": "markdown",
   "metadata": {},
   "source": [
    "#### Working with 2-dimensional dictionary keys\n",
    "Working with tuples as multi-dimensional keys allows us to do rather complex calculations in a very concise and efficient way. In the following example, a dictionary with a 2-dimensional key consisting of a name and a choice is created. The corresponding values are all set to 1:"
   ]
  },
  {
   "cell_type": "code",
   "execution_count": 1,
   "metadata": {},
   "outputs": [
    {
     "name": "stdout",
     "output_type": "stream",
     "text": [
      "{('Peter', 0): 1, ('Peter', 1): 1, ('Peter', 2): 1, ('Sarah', 0): 1, ('Sarah', 1): 1, ('Sarah', 2): 1, ('Milow', 0): 1, ('Milow', 1): 1, ('Milow', 2): 1, ('Fred', 0): 1, ('Fred', 1): 1, ('Fred', 2): 1}\n"
     ]
    }
   ],
   "source": [
    "names = ['Peter', 'Sarah', 'Milow', 'Fred']\n",
    "choices = [0, 1, 2]\n",
    "name_choice_dict = { (name, choice):1 for name in names for choice in choices }\n",
    "print(name_choice_dict)"
   ]
  },
  {
   "cell_type": "markdown",
   "metadata": {},
   "source": [
    "Values of dictionaries with multi-dimensional keys can be accessed in the following way:"
   ]
  },
  {
   "cell_type": "code",
   "execution_count": 2,
   "metadata": {},
   "outputs": [
    {
     "data": {
      "text/plain": [
       "1"
      ]
     },
     "execution_count": 2,
     "metadata": {},
     "output_type": "execute_result"
    }
   ],
   "source": [
    "name_choice_dict['Sarah', 1]"
   ]
  },
  {
   "cell_type": "markdown",
   "metadata": {},
   "source": [
    "Imagine we have a multiplier given for each name and we want to calculate the sum product over all names and choices, such that the multiplier is the same for all choices of a particular person. Such calculations are quite common when working with linear programming models, e.g. when specifying the objective function or the constraints in the face of hierarchically structured decision variables."
   ]
  },
  {
   "cell_type": "code",
   "execution_count": 4,
   "metadata": {},
   "outputs": [
    {
     "name": "stdout",
     "output_type": "stream",
     "text": [
      "39\n"
     ]
    }
   ],
   "source": [
    "names = ['Peter', 'Sarah', 'Milow', 'Fred']\n",
    "choices = [0, 1, 2]\n",
    "multiplier = {'Peter':3, 'Sarah':7, 'Milow':1, 'Fred':2}\n",
    "\n",
    "sum_product = sum(name_choice_dict[name, choice] * multiplier[name] for name in names for choice in choices)\n",
    "print(sum_product)"
   ]
  },
  {
   "cell_type": "markdown",
   "metadata": {},
   "source": [
    "## 9. Numpy"
   ]
  },
  {
   "cell_type": "markdown",
   "metadata": {},
   "source": [
    "The creators are right when they state on their website that numpy is __the__ fundamental package for scientific computing with python that countless other packages depend upon. We will use numpy to prepare data for the optimization model and process the optimized results. Therefore we will only have a look at a very small portion of its functionality:\n",
    "- Working with multidimensional arrays\n",
    "- Boolean indexing\n",
    "- Some useful functions"
   ]
  },
  {
   "cell_type": "code",
   "execution_count": 5,
   "metadata": {
    "collapsed": true
   },
   "outputs": [],
   "source": [
    "import numpy as np"
   ]
  },
  {
   "cell_type": "markdown",
   "metadata": {},
   "source": [
    "### Numpy arrays\n",
    "Numpy arrays are in many ways similar to Matlab's arrays. They offer less flexibility than lists, but working with them is much faster and ressource efficient. In addition they support some very neat features like multi-dimensional indexing or boolean masking."
   ]
  },
  {
   "cell_type": "markdown",
   "metadata": {},
   "source": [
    "#### Array creation routines\n",
    "While lists can be extended or shrinked, arrays should be initialized to a fixed size. Numpy offers many possibilities to create an array with a specified initial value for subsequent processing. This process is called __preallocation__.\n",
    "\n",
    "Some commonly used functions are zeros() and ones() to create an array of zeros and ones. The full() functions allows for a custom initial value. Passing an integer to these functions creates an 1-dimensional array (vector). To create multi-dimensional arrays, pass the functions a tuple containing the dimensions."
   ]
  },
  {
   "cell_type": "code",
   "execution_count": 6,
   "metadata": {},
   "outputs": [
    {
     "data": {
      "text/plain": [
       "array([ 0.,  0.,  0.,  0.,  0.,  0.,  0.,  0.,  0.,  0.])"
      ]
     },
     "execution_count": 6,
     "metadata": {},
     "output_type": "execute_result"
    }
   ],
   "source": [
    "np.zeros(10)"
   ]
  },
  {
   "cell_type": "code",
   "execution_count": 7,
   "metadata": {},
   "outputs": [
    {
     "data": {
      "text/plain": [
       "array([[ 1.,  1.,  1.],\n",
       "       [ 1.,  1.,  1.],\n",
       "       [ 1.,  1.,  1.],\n",
       "       [ 1.,  1.,  1.],\n",
       "       [ 1.,  1.,  1.]])"
      ]
     },
     "execution_count": 7,
     "metadata": {},
     "output_type": "execute_result"
    }
   ],
   "source": [
    "np.ones((5,3))"
   ]
  },
  {
   "cell_type": "code",
   "execution_count": 8,
   "metadata": {},
   "outputs": [
    {
     "data": {
      "text/plain": [
       "array([[-99, -99, -99],\n",
       "       [-99, -99, -99]])"
      ]
     },
     "execution_count": 8,
     "metadata": {},
     "output_type": "execute_result"
    }
   ],
   "source": [
    "np.full((2,3), -99)"
   ]
  },
  {
   "cell_type": "markdown",
   "metadata": {},
   "source": [
    "It is possible to create an array directly from a nested list  using array():"
   ]
  },
  {
   "cell_type": "code",
   "execution_count": 9,
   "metadata": {},
   "outputs": [
    {
     "data": {
      "text/plain": [
       "array([[1, 2, 3],\n",
       "       [9, 8, 7]])"
      ]
     },
     "execution_count": 9,
     "metadata": {},
     "output_type": "execute_result"
    }
   ],
   "source": [
    "np.array([[1,2,3], [9,8,7]])"
   ]
  },
  {
   "cell_type": "markdown",
   "metadata": {},
   "source": [
    "#### Indexing and slicing\n",
    "Indexing and slicing works the same as with lists. Similar to Matlab, multi-dimensional indexing and slicing is easy:"
   ]
  },
  {
   "cell_type": "code",
   "execution_count": 10,
   "metadata": {},
   "outputs": [
    {
     "name": "stdout",
     "output_type": "stream",
     "text": [
      "[[1 2 3 4]\n",
      " [9 8 7 6]]\n"
     ]
    }
   ],
   "source": [
    "an_array = np.array([[1,2,3,4], [9,8,7,6]])\n",
    "print(an_array)"
   ]
  },
  {
   "cell_type": "code",
   "execution_count": 11,
   "metadata": {},
   "outputs": [
    {
     "data": {
      "text/plain": [
       "6"
      ]
     },
     "execution_count": 11,
     "metadata": {},
     "output_type": "execute_result"
    }
   ],
   "source": [
    "an_array[1,3]"
   ]
  },
  {
   "cell_type": "code",
   "execution_count": 12,
   "metadata": {},
   "outputs": [
    {
     "data": {
      "text/plain": [
       "array([1, 2, 3])"
      ]
     },
     "execution_count": 12,
     "metadata": {},
     "output_type": "execute_result"
    }
   ],
   "source": [
    "an_array[0, 0:3]"
   ]
  },
  {
   "cell_type": "code",
   "execution_count": 13,
   "metadata": {},
   "outputs": [
    {
     "data": {
      "text/plain": [
       "array([4, 6])"
      ]
     },
     "execution_count": 13,
     "metadata": {},
     "output_type": "execute_result"
    }
   ],
   "source": [
    "an_array[:, 3]"
   ]
  },
  {
   "cell_type": "markdown",
   "metadata": {},
   "source": [
    "It is also possible to pass arbitrary indices to an array to extract the corresponding elements:"
   ]
  },
  {
   "cell_type": "code",
   "execution_count": 14,
   "metadata": {},
   "outputs": [
    {
     "data": {
      "text/plain": [
       "array([4, 2, 3])"
      ]
     },
     "execution_count": 14,
     "metadata": {},
     "output_type": "execute_result"
    }
   ],
   "source": [
    "an_array[0, [3,1,2]]"
   ]
  },
  {
   "cell_type": "markdown",
   "metadata": {},
   "source": [
    "#### Boolean masking"
   ]
  },
  {
   "cell_type": "markdown",
   "metadata": {},
   "source": [
    "Comparing an array to some value returns a new array containing boolean values (True/False) for each entry:"
   ]
  },
  {
   "cell_type": "code",
   "execution_count": 15,
   "metadata": {},
   "outputs": [
    {
     "data": {
      "text/plain": [
       "array([[False, False, False,  True],\n",
       "       [ True,  True,  True,  True]], dtype=bool)"
      ]
     },
     "execution_count": 15,
     "metadata": {},
     "output_type": "execute_result"
    }
   ],
   "source": [
    "an_array > 3"
   ]
  },
  {
   "cell_type": "markdown",
   "metadata": {},
   "source": [
    "The combination of the two numpy features above allows for __boolean masking__, which allows to extract a subset of an array based on one or several logical comparisons. As shown above, the comparison in the square brackets results in an array containing True/False. Subsequently, only the elements for which the comparison evaluated to True are extracted:"
   ]
  },
  {
   "cell_type": "code",
   "execution_count": 16,
   "metadata": {},
   "outputs": [
    {
     "data": {
      "text/plain": [
       "array([4, 9, 8, 7, 6])"
      ]
     },
     "execution_count": 16,
     "metadata": {},
     "output_type": "execute_result"
    }
   ],
   "source": [
    "an_array[an_array > 3]"
   ]
  },
  {
   "cell_type": "code",
   "execution_count": null,
   "metadata": {
    "collapsed": true
   },
   "outputs": [],
   "source": []
  }
 ],
 "metadata": {
  "kernelspec": {
   "display_name": "Python3 - pyomo",
   "language": "python",
   "name": "pyomo_tutorial"
  },
  "language_info": {
   "codemirror_mode": {
    "name": "ipython",
    "version": 3
   },
   "file_extension": ".py",
   "mimetype": "text/x-python",
   "name": "python",
   "nbconvert_exporter": "python",
   "pygments_lexer": "ipython3",
   "version": "3.6.5"
  }
 },
 "nbformat": 4,
 "nbformat_minor": 2
}