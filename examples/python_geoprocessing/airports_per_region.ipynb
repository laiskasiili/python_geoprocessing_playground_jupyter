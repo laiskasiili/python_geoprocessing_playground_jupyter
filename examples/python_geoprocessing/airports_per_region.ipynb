{
 "cells": [
  {
   "cell_type": "markdown",
   "id": "2aec122d-115c-46dc-9297-9054947c52bf",
   "metadata": {},
   "source": [
    "# This is Work in Progress (incomplete & undocumented)"
   ]
  },
  {
   "cell_type": "code",
   "execution_count": null,
   "id": "ab10e7fd-f263-48f8-804d-896da151b767",
   "metadata": {},
   "outputs": [],
   "source": [
    "import geopandas as gpd\n",
    "import pandas as pd"
   ]
  },
  {
   "cell_type": "code",
   "execution_count": null,
   "id": "c35327b1-31f6-4911-b49f-bd058f8ac628",
   "metadata": {},
   "outputs": [],
   "source": [
    "# Read NaturalEarth data of airpoirts of the world\n",
    "# This data is available as shapefile, but for demonstration purposes\n",
    "# a csv was created that is read in here.\n",
    "df_airports = pd.read_csv('./inData/ne_10m_airports/ne_10m_airports.csv')\n",
    "airports = gpd.GeoDataFrame(\n",
    "    df_airports,\n",
    "    crs='EPSG:4326',\n",
    "    geometry=gpd.points_from_xy(df_airports.longitude, df_airports.latitude))\n",
    "del df_airports\n",
    "# Create spatial index\n",
    "airports.sindex\n",
    "\n",
    "print(airports.shape)\n",
    "airports.head(2)"
   ]
  },
  {
   "cell_type": "code",
   "execution_count": null,
   "id": "3c459ebd-00d0-4c1b-a865-ed1d2a6ffbed",
   "metadata": {},
   "outputs": [],
   "source": [
    "airports.explore()"
   ]
  },
  {
   "cell_type": "code",
   "execution_count": null,
   "id": "255030e3-d5ee-4dd8-a792-bc6000f3c499",
   "metadata": {},
   "outputs": [],
   "source": [
    "countries = gpd.read_file('./inData/ne_50m_admin_0_countries/ne_50m_admin_0_countries.shp')\n",
    "countries = countries[['NAME', 'SUBREGION', 'REGION_UN', 'geometry']]\n",
    "countries.head(2)"
   ]
  },
  {
   "cell_type": "code",
   "execution_count": null,
   "id": "2f3146f9-694a-4170-b59c-5e267601576b",
   "metadata": {},
   "outputs": [],
   "source": [
    "countries.explore()"
   ]
  },
  {
   "cell_type": "code",
   "execution_count": null,
   "id": "b04e814f-383f-4970-9899-a5d5f63f0aa7",
   "metadata": {},
   "outputs": [],
   "source": [
    "countries_subregion = countries\\\n",
    "    .drop(columns=['NAME'])\\\n",
    "    .dissolve(by='SUBREGION')\\\n",
    "    .reset_index()\n",
    "countries_subregion.sindex\n",
    "countries_subregion.head(5)"
   ]
  },
  {
   "cell_type": "code",
   "execution_count": null,
   "id": "d9f5c535-f696-4dc4-a492-0cf790c8bcba",
   "metadata": {},
   "outputs": [],
   "source": [
    "countries_subregion.explore()"
   ]
  },
  {
   "cell_type": "code",
   "execution_count": null,
   "id": "8e5d6e2a-3133-484d-a6b0-af3713996986",
   "metadata": {
    "tags": []
   },
   "outputs": [],
   "source": [
    "regions_with_airports = gpd.sjoin(countries_subregion, airports, how='inner', predicate='contains')\n",
    "regions_with_airports.head(3)"
   ]
  },
  {
   "cell_type": "code",
   "execution_count": null,
   "id": "8e70eb7a-6bc9-43ef-92f6-8d05fadda00a",
   "metadata": {},
   "outputs": [],
   "source": [
    "count_per_region = regions_with_airports\\\n",
    "    .groupby('SUBREGION')\\\n",
    "    .agg({\n",
    "        'geometry': 'first',\n",
    "        'index_right': 'count'\n",
    "    })\\\n",
    "    .reset_index()\\\n",
    "    .rename(columns={\n",
    "        'index_right': 'airport_count'\n",
    "    })\n",
    "count_per_region.head(3)"
   ]
  },
  {
   "cell_type": "code",
   "execution_count": null,
   "id": "66133f37-1a18-47e4-bf19-e7b2e40c505b",
   "metadata": {},
   "outputs": [],
   "source": [
    "count_per_region.plot(\n",
    "    figsize=(18,6),\n",
    "    column='airport_count', \n",
    "    cmap='YlOrRd',\n",
    "    legend=True)"
   ]
  },
  {
   "cell_type": "code",
   "execution_count": null,
   "id": "dd1d0b4d-b9f9-4692-a886-3ac1507bf709",
   "metadata": {},
   "outputs": [],
   "source": []
  }
 ],
 "metadata": {
  "kernelspec": {
   "display_name": "Python 3 (ipykernel)",
   "language": "python",
   "name": "python3"
  },
  "language_info": {
   "codemirror_mode": {
    "name": "ipython",
    "version": 3
   },
   "file_extension": ".py",
   "mimetype": "text/x-python",
   "name": "python",
   "nbconvert_exporter": "python",
   "pygments_lexer": "ipython3",
   "version": "3.9.9"
  }
 },
 "nbformat": 4,
 "nbformat_minor": 5
}
