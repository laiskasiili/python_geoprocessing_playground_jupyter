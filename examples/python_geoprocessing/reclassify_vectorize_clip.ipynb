{
 "cells": [
  {
   "cell_type": "markdown",
   "id": "5b66a59f-01dc-4b39-adf0-b2e9d12d0db5",
   "metadata": {},
   "source": [
    "# This is Work in Progress (incomplete & undocumented)"
   ]
  },
  {
   "cell_type": "markdown",
   "id": "ea9e1a4b-cda7-4c13-980d-241998134930",
   "metadata": {},
   "source": [
    "# Raster reclassify, vectorize and clip\n",
    "Given a value raster and a polygon clip layer, the goal is to get polygons reflecting reclassified categories of raster values, which are nicely clipped by a feature of the clip layer."
   ]
  },
  {
   "cell_type": "code",
   "execution_count": null,
   "id": "39b96ef9-ba92-42f4-a066-b8c51ca7d832",
   "metadata": {},
   "outputs": [],
   "source": [
    "import rasterio\n",
    "from rasterio.enums import Resampling\n",
    "from rasterio.rio.overview import get_maximum_overview_level\n",
    "from rasterio.plot import show\n",
    "import matplotlib.pyplot as plt\n",
    "import pprint\n",
    "import numpy as np"
   ]
  },
  {
   "cell_type": "markdown",
   "id": "c6e13ff1-8692-4edf-abd7-6455367f7f1a",
   "metadata": {},
   "source": [
    "# Get to know your raster"
   ]
  },
  {
   "cell_type": "code",
   "execution_count": null,
   "id": "83d16d2a-7301-4420-9234-d7348fcbc916",
   "metadata": {},
   "outputs": [],
   "source": [
    "dem_r = './inData/demBernCas/dem_bern.tif'\n",
    "with rasterio.open(dem_r, 'r') as r:\n",
    "    pprint.pprint(r.profile) # pprint (pretty print) does the same as print, but prettier\n",
    "    print('-'*30)\n",
    "    print('Overview levels:', r.overviews(1)) # There is only 1 band, show overviews for it.\n",
    "    print('-'*30)\n",
    "    # Plot raster with colorbar, see:\n",
    "    # https://stackoverflow.com/questions/61327088/rio-plot-show-with-colorbar\n",
    "    fig, ax = plt.subplots()\n",
    "    rshow = show(r, ax=ax)\n",
    "    fig.colorbar(rshow.get_images()[0], ax=ax)"
   ]
  },
  {
   "cell_type": "markdown",
   "id": "311b10fc-6636-42f8-a2ed-8224031f319f",
   "metadata": {},
   "source": [
    "# Read and reclassify"
   ]
  },
  {
   "cell_type": "code",
   "execution_count": null,
   "id": "921b78b3-f91e-4373-8173-04fb4be8ab93",
   "metadata": {},
   "outputs": [],
   "source": [
    "# Read the raster into memory as nested numpy array.\n",
    "# Note: If the raster would not fit in memory, we could use a read window in read().\n",
    "with rasterio.open(dem_r, 'r') as r:\n",
    "    nodata = r.nodata # Keep track of nodata value for reclassification later\n",
    "    r_meta = r.meta.copy() # Copy meta data to use later on output raster\n",
    "    r_data = r.read(1) # Read band 1\n",
    "\n",
    "# Reclassify the raster\n",
    "# Use vectorized operations to use full speed potential of numpy.\n",
    "r_data[r_data==nodata] = 0\n",
    "r_data[(0 < r_data) & (r_data <= 500)] = 1\n",
    "r_data[(500 < r_data) & (r_data <= 1000)] = 2\n",
    "r_data[(1000 < r_data) & (r_data <= 1500)] = 3\n",
    "r_data[(1500 < r_data) & (r_data <= 2000)] = 4\n",
    "r_data[r_data > 2000] = 5\n",
    "\n",
    "# Cast to signed unisgned int8 (0 to 255), because we only deal with a small number of integer categories.\n",
    "# The resulting file is 25% of the original's size. This might well be premature optimization though.\n",
    "r_data = r_data.astype('uint8')\n",
    "\n",
    "# Quick sanity check:\n",
    "print(f'Min/Max values: {r_data.min()} / {r_data.max()}')"
   ]
  },
  {
   "cell_type": "markdown",
   "id": "be1640de-adae-4538-aec6-068bebc564c5",
   "metadata": {
    "tags": []
   },
   "source": [
    "# Create polygons"
   ]
  },
  {
   "cell_type": "code",
   "execution_count": null,
   "id": "3c89dd8a-52ec-414a-9d62-35007a34b22b",
   "metadata": {},
   "outputs": [],
   "source": [
    "from rasterio import features\n",
    "from shapely.geometry import shape\n",
    "import geopandas as gpd"
   ]
  },
  {
   "cell_type": "code",
   "execution_count": null,
   "id": "5253936f-2ac4-422a-935a-03278fee9760",
   "metadata": {
    "tags": []
   },
   "outputs": [],
   "source": [
    "# Rasterio's features.shapes function vectorizes a raster by creating polygons from raster cells with same values. \n",
    "# The raster has noData=0, which is why we can use the raster data also as mask to avoid creating polygons for \n",
    "# cells with value 0. The function returns 2-tuples of a geojson describing the polygon and the associated cell value.\n",
    "feature_generator = features.shapes(\n",
    "    r_data, \n",
    "    mask=r_data, \n",
    "    transform=r_meta['transform']\n",
    ")\n",
    "# The polygon geojson is parsed into a shapely geometry object by shapely's shape function. The 2-tuple \n",
    "# structure is preserved to be fed to (geo)pandas' from_records function to create a Geodataframe.\n",
    "records_generator = ((shape(geom), category) for geom, category in feature_generator)\n",
    "gdf = gpd.GeoDataFrame.from_records(\n",
    "    records_generator,\n",
    "    columns=['geom', 'category'],\n",
    ").set_geometry(\n",
    "    col='geom',\n",
    "    drop=True,\n",
    "    crs=r_meta['crs'].to_string()\n",
    ")"
   ]
  },
  {
   "cell_type": "code",
   "execution_count": null,
   "id": "2f6c93cf-0124-4e52-9413-85c49382d32b",
   "metadata": {},
   "outputs": [],
   "source": [
    "gdf.explore()"
   ]
  },
  {
   "cell_type": "markdown",
   "id": "6a39ebec-676d-4889-8eb1-024176e2d941",
   "metadata": {},
   "source": [
    "# Clip"
   ]
  },
  {
   "cell_type": "code",
   "execution_count": null,
   "id": "bf639959-d9d8-41c0-b77a-264d8283fd7c",
   "metadata": {},
   "outputs": [],
   "source": [
    "clip_layer = gpd.read_file('./inData/admUnitsBernCas/bern_community_borders.shp')\n",
    "clip_layer.explore()"
   ]
  },
  {
   "cell_type": "code",
   "execution_count": null,
   "id": "b5aea364-e42f-45be-8db3-244fdade4483",
   "metadata": {},
   "outputs": [],
   "source": [
    "clip_mask = clip_layer.loc[clip_layer['NAME']=='Grindelwald'].geometry.unary_union\n",
    "clip_mask"
   ]
  },
  {
   "cell_type": "code",
   "execution_count": null,
   "id": "fcb4d281-7dd1-406f-985c-5d6e8359ac0c",
   "metadata": {},
   "outputs": [],
   "source": [
    "gdf = gpd.clip(\n",
    "    gdf,\n",
    "    mask=clip_mask,\n",
    "    keep_geom_type=True\n",
    ")"
   ]
  },
  {
   "cell_type": "code",
   "execution_count": null,
   "id": "e7993fd0-90db-4082-870a-821ded19e4bd",
   "metadata": {},
   "outputs": [],
   "source": [
    "gdf.explore()"
   ]
  },
  {
   "cell_type": "code",
   "execution_count": null,
   "id": "ce3f77cf-1350-4e66-b2ea-339430673610",
   "metadata": {},
   "outputs": [],
   "source": [
    "gdf.to_file('./outData/reclassifiedAndClipped.shp')"
   ]
  }
 ],
 "metadata": {
  "kernelspec": {
   "display_name": "Python 3 (ipykernel)",
   "language": "python",
   "name": "python3"
  },
  "language_info": {
   "codemirror_mode": {
    "name": "ipython",
    "version": 3
   },
   "file_extension": ".py",
   "mimetype": "text/x-python",
   "name": "python",
   "nbconvert_exporter": "python",
   "pygments_lexer": "ipython3",
   "version": "3.9.9"
  }
 },
 "nbformat": 4,
 "nbformat_minor": 5
}
