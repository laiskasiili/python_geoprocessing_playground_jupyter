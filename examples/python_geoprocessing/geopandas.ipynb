{
 "cells": [
  {
   "cell_type": "markdown",
   "id": "d314530c-38e9-4f59-ac68-844afda04452",
   "metadata": {},
   "source": [
    "# This is Work in Progress (incomplete & undocumented)"
   ]
  },
  {
   "cell_type": "code",
   "execution_count": null,
   "id": "4f863c48-d387-4ea6-92b5-4475ebfe55fb",
   "metadata": {},
   "outputs": [],
   "source": [
    "import geopandas as gpd"
   ]
  },
  {
   "cell_type": "code",
   "execution_count": null,
   "id": "c0aef8fe-2327-4e6d-8982-c7e155839872",
   "metadata": {},
   "outputs": [],
   "source": [
    "gdf = gpd.read_file('./inData/ne_50m_populated_places/ne_50m_populated_places.shp')\n",
    "gdf.head(3) # Show top 3 entries"
   ]
  },
  {
   "cell_type": "code",
   "execution_count": null,
   "id": "f8d111d2-39b8-4d0a-88f8-7b1eda3514ce",
   "metadata": {},
   "outputs": [],
   "source": [
    "gdf.plot()"
   ]
  },
  {
   "cell_type": "code",
   "execution_count": null,
   "id": "f4fc661b-d43c-4fb3-a19e-b266ff87fc63",
   "metadata": {},
   "outputs": [],
   "source": [
    "gdf.explore()"
   ]
  },
  {
   "cell_type": "code",
   "execution_count": null,
   "id": "ce503c1d-e4cb-4aa8-9855-7bee6f0f7156",
   "metadata": {},
   "outputs": [],
   "source": []
  }
 ],
 "metadata": {
  "kernelspec": {
   "display_name": "Python 3 (ipykernel)",
   "language": "python",
   "name": "python3"
  },
  "language_info": {
   "codemirror_mode": {
    "name": "ipython",
    "version": 3
   },
   "file_extension": ".py",
   "mimetype": "text/x-python",
   "name": "python",
   "nbconvert_exporter": "python",
   "pygments_lexer": "ipython3",
   "version": "3.9.9"
  }
 },
 "nbformat": 4,
 "nbformat_minor": 5
}
