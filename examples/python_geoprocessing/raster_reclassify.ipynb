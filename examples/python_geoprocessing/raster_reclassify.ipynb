{
 "cells": [
  {
   "cell_type": "markdown",
   "id": "5b66a59f-01dc-4b39-adf0-b2e9d12d0db5",
   "metadata": {},
   "source": [
    "# This is Work in Progress (incomplete & undocumented)"
   ]
  },
  {
   "cell_type": "code",
   "execution_count": null,
   "id": "39b96ef9-ba92-42f4-a066-b8c51ca7d832",
   "metadata": {},
   "outputs": [],
   "source": [
    "import rasterio\n",
    "import pprint\n",
    "import numpy as np\n",
    "from matplotlib import pyplot"
   ]
  },
  {
   "cell_type": "code",
   "execution_count": null,
   "id": "83d16d2a-7301-4420-9234-d7348fcbc916",
   "metadata": {},
   "outputs": [],
   "source": [
    "dem_r = './inData/demBernCas/dem_bern'\n",
    "with rasterio.open(dem_r, 'r') as r:\n",
    "    pprint.pprint(r.meta) # pprint (pretty print) does the same as print, but prettier\n",
    "    pyplot.imshow(r.read(1)) # Read band 1 (only band) for plotting"
   ]
  },
  {
   "cell_type": "code",
   "execution_count": null,
   "id": "921b78b3-f91e-4373-8173-04fb4be8ab93",
   "metadata": {},
   "outputs": [],
   "source": [
    "# Read the raster into memory as nested numpy array.\n",
    "# Note: If the raster would not fit in memory, we could use a read window in read().\n",
    "with rasterio.open(dem_r, 'r') as r:\n",
    "    nodata = r.nodata # Keep track of nodata value for reclassification later\n",
    "    r_data = r.read(1) # Read band 1\n",
    "\n",
    "# Reclassify the raster\n",
    "# Use vectorized operations to use full speed potential of numpy.\n",
    "r_data[r_data==nodata] = 0\n",
    "r_data[(0 < r_data) & (r_data <= 500)] = 1\n",
    "r_data[(500 < r_data) & (r_data <= 1000)] = 2\n",
    "r_data[(1000 < r_data) & (r_data <= 1500)] = 3\n",
    "r_data[(1500 < r_data) & (r_data <= 2000)] = 4\n",
    "r_data[r_data > 2000] = 5\n",
    "\n",
    "# Plot reclassified raster\n",
    "pyplot.imshow(r_data)"
   ]
  },
  {
   "cell_type": "code",
   "execution_count": null,
   "id": "48181170-eaa1-4273-af29-36600428c68d",
   "metadata": {},
   "outputs": [],
   "source": []
  }
 ],
 "metadata": {
  "kernelspec": {
   "display_name": "Python 3 (ipykernel)",
   "language": "python",
   "name": "python3"
  },
  "language_info": {
   "codemirror_mode": {
    "name": "ipython",
    "version": 3
   },
   "file_extension": ".py",
   "mimetype": "text/x-python",
   "name": "python",
   "nbconvert_exporter": "python",
   "pygments_lexer": "ipython3",
   "version": "3.9.9"
  }
 },
 "nbformat": 4,
 "nbformat_minor": 5
}
