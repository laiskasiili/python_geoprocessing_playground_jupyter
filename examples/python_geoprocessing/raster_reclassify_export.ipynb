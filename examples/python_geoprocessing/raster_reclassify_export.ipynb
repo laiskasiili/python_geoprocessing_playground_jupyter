{
 "cells": [
  {
   "cell_type": "markdown",
   "id": "5b66a59f-01dc-4b39-adf0-b2e9d12d0db5",
   "metadata": {},
   "source": [
    "# This is Work in Progress (incomplete & undocumented)"
   ]
  },
  {
   "cell_type": "markdown",
   "id": "0a5442c2-b1ce-4247-8ad4-a7e5474b97f7",
   "metadata": {},
   "source": [
    "# Raster reclassify and export\n",
    "Given a raster, read and explore it. Then reclassify and export as COG (Cloud Optimized Geotiff) with internal tiling and overviews."
   ]
  },
  {
   "cell_type": "code",
   "execution_count": null,
   "id": "39b96ef9-ba92-42f4-a066-b8c51ca7d832",
   "metadata": {},
   "outputs": [],
   "source": [
    "import rasterio\n",
    "from rasterio.enums import Resampling\n",
    "from rasterio.rio.overview import get_maximum_overview_level\n",
    "from rasterio.plot import show\n",
    "import matplotlib.pyplot as plt\n",
    "import pprint\n",
    "import numpy as np"
   ]
  },
  {
   "cell_type": "markdown",
   "id": "c6e13ff1-8692-4edf-abd7-6455367f7f1a",
   "metadata": {},
   "source": [
    "# Get to know your raster"
   ]
  },
  {
   "cell_type": "code",
   "execution_count": null,
   "id": "83d16d2a-7301-4420-9234-d7348fcbc916",
   "metadata": {},
   "outputs": [],
   "source": [
    "dem_r = './inData/demBernCas/dem_bern.tif'\n",
    "with rasterio.open(dem_r, 'r') as r:\n",
    "    pprint.pprint(r.profile) # pprint (pretty print) does the same as print, but prettier\n",
    "    print('-'*30)\n",
    "    print('Overview levels:', r.overviews(1)) # There is only 1 band, show overviews for it.\n",
    "    print('-'*30)\n",
    "    # Plot raster with colorbar, see:\n",
    "    # https://stackoverflow.com/questions/61327088/rio-plot-show-with-colorbar\n",
    "    fig, ax = plt.subplots()\n",
    "    rshow = show(r, ax=ax)\n",
    "    fig.colorbar(rshow.get_images()[0], ax=ax)"
   ]
  },
  {
   "cell_type": "markdown",
   "id": "311b10fc-6636-42f8-a2ed-8224031f319f",
   "metadata": {},
   "source": [
    "# Read and reclassify"
   ]
  },
  {
   "cell_type": "code",
   "execution_count": null,
   "id": "921b78b3-f91e-4373-8173-04fb4be8ab93",
   "metadata": {},
   "outputs": [],
   "source": [
    "# Read the raster into memory as nested numpy array.\n",
    "# Note: If the raster would not fit in memory, we could use a read window in read().\n",
    "with rasterio.open(dem_r, 'r') as r:\n",
    "    nodata = r.nodata # Keep track of nodata value for reclassification later\n",
    "    r_meta = r.meta.copy() # Copy meta data to use later on output raster\n",
    "    r_data = r.read(1) # Read band 1\n",
    "\n",
    "# Reclassify the raster\n",
    "# Use vectorized operations to use full speed potential of numpy.\n",
    "r_data[r_data==nodata] = 0\n",
    "r_data[(0 < r_data) & (r_data <= 500)] = 1\n",
    "r_data[(500 < r_data) & (r_data <= 1000)] = 2\n",
    "r_data[(1000 < r_data) & (r_data <= 1500)] = 3\n",
    "r_data[(1500 < r_data) & (r_data <= 2000)] = 4\n",
    "r_data[r_data > 2000] = 5\n",
    "\n",
    "# Cast to signed int8 (-127 to 128), because we only deal with a small number of integer categories.\n",
    "# The resulting file is 25% of the original's size. This might well be premature optimization though.\n",
    "r_data = r_data.astype('uint8')\n",
    "\n",
    "# Quick sanity check:\n",
    "print(f'Min/Max values: {r_data.min()} / {r_data.max()}')"
   ]
  },
  {
   "cell_type": "markdown",
   "id": "be1640de-adae-4538-aec6-068bebc564c5",
   "metadata": {},
   "source": [
    "# Save reclassified raster"
   ]
  },
  {
   "cell_type": "code",
   "execution_count": null,
   "id": "48181170-eaa1-4273-af29-36600428c68d",
   "metadata": {},
   "outputs": [],
   "source": [
    "out_path = './outData/reclassifiedRaster.tif'\n",
    "\n",
    "# Use most of the input raster's meta data. Overwrite the parts we changed.\n",
    "r_meta.update({\n",
    "    'driver': 'GTiff', # Already there but just to be explicit\n",
    "    'dtype': 'int8',\n",
    "    'nodata': 0\n",
    "})\n",
    "\n",
    "with rasterio.open(\n",
    "    out_path, \n",
    "    \"w\", \n",
    "    compress='lzw',\n",
    "    tiled=True,\n",
    "    **r_meta,\n",
    ") as dest:\n",
    "    dest.write(r_data, 1)\n",
    "    # Create overview factors of power 2 such that the smallest overview width or height \n",
    "    # is maximum 256px. As we use discrete categories, use nearest neigbour resampling.\n",
    "    max_ovr_factor = get_maximum_overview_level(r_meta['width'], r_meta['height'], minsize=256)\n",
    "    dest.build_overviews([2 ** j for j in range(1, max_ovr_factor+1)], Resampling.nearest)"
   ]
  },
  {
   "cell_type": "code",
   "execution_count": null,
   "id": "4cce7b37-257a-4193-8c74-57ab07d6a73c",
   "metadata": {},
   "outputs": [],
   "source": [
    "# Check meta data of of new raster (crs, overviews, ...)\n",
    "with rasterio.open(out_path, 'r') as r:\n",
    "    pprint.pprint(r.profile)\n",
    "    print('-'*30)\n",
    "    print('Overview levels:', r.overviews(1))\n",
    "    print('-'*30)\n",
    "    fig, ax = plt.subplots()\n",
    "    rshow = show(r, ax=ax)\n",
    "    fig.colorbar(rshow.get_images()[0], ax=ax)"
   ]
  },
  {
   "cell_type": "code",
   "execution_count": null,
   "id": "3c89dd8a-52ec-414a-9d62-35007a34b22b",
   "metadata": {},
   "outputs": [],
   "source": []
  },
  {
   "cell_type": "code",
   "execution_count": null,
   "id": "cb1b875d-b9a4-4c6d-b5de-b8c8195ec737",
   "metadata": {},
   "outputs": [],
   "source": []
  }
 ],
 "metadata": {
  "kernelspec": {
   "display_name": "Python 3 (ipykernel)",
   "language": "python",
   "name": "python3"
  },
  "language_info": {
   "codemirror_mode": {
    "name": "ipython",
    "version": 3
   },
   "file_extension": ".py",
   "mimetype": "text/x-python",
   "name": "python",
   "nbconvert_exporter": "python",
   "pygments_lexer": "ipython3",
   "version": "3.9.9"
  }
 },
 "nbformat": 4,
 "nbformat_minor": 5
}
